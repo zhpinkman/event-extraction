{
 "cells": [
  {
   "cell_type": "code",
   "execution_count": 3,
   "id": "received-vertex",
   "metadata": {},
   "outputs": [
    {
     "name": "stdout",
     "output_type": "stream",
     "text": [
      "Collecting newsapi-python\n",
      "  Downloading https://files.pythonhosted.org/packages/de/9e/9050199ac7cbc755d1c49577fdaa5517901124b574264b3602a8b8028440/newsapi_python-0.2.6-py2.py3-none-any.whl\n",
      "Requirement already satisfied: requests<3.0.0 in /Library/Frameworks/Python.framework/Versions/3.8/lib/python3.8/site-packages (from newsapi-python) (2.25.1)\n",
      "Requirement already satisfied: certifi>=2017.4.17 in /Library/Frameworks/Python.framework/Versions/3.8/lib/python3.8/site-packages (from requests<3.0.0->newsapi-python) (2020.12.5)\n",
      "Requirement already satisfied: urllib3<1.27,>=1.21.1 in /Library/Frameworks/Python.framework/Versions/3.8/lib/python3.8/site-packages (from requests<3.0.0->newsapi-python) (1.26.2)\n",
      "Requirement already satisfied: chardet<5,>=3.0.2 in /Library/Frameworks/Python.framework/Versions/3.8/lib/python3.8/site-packages (from requests<3.0.0->newsapi-python) (4.0.0)\n",
      "Requirement already satisfied: idna<3,>=2.5 in /Library/Frameworks/Python.framework/Versions/3.8/lib/python3.8/site-packages (from requests<3.0.0->newsapi-python) (2.10)\n",
      "Installing collected packages: newsapi-python\n",
      "Successfully installed newsapi-python-0.2.6\n",
      "\u001b[33mWARNING: You are using pip version 19.2.3, however version 21.0.1 is available.\n",
      "You should consider upgrading via the 'pip install --upgrade pip' command.\u001b[0m\n"
     ]
    }
   ],
   "source": [
    "!pip3 install newsapi-python"
   ]
  },
  {
   "cell_type": "code",
   "execution_count": 41,
   "id": "guilty-mobility",
   "metadata": {},
   "outputs": [],
   "source": [
    "# !python3 -m spacy download en_core_web_lg"
   ]
  },
  {
   "cell_type": "code",
   "execution_count": 122,
   "id": "labeled-torture",
   "metadata": {},
   "outputs": [],
   "source": [
    "from tqdm import tqdm\n",
    "import pandas as pd\n",
    "import numpy as np\n",
    "from newsapi import NewsApiClient\n",
    "import nltk\n",
    "from nltk.tokenize import word_tokenize\n",
    "import string\n",
    "from nltk.corpus import stopwords\n",
    "import spacy\n",
    "from sklearn.cluster import DBSCAN\n",
    "import matplotlib.pyplot as plt\n",
    "import seaborn as sns"
   ]
  },
  {
   "cell_type": "code",
   "execution_count": 123,
   "id": "reflected-identification",
   "metadata": {},
   "outputs": [],
   "source": [
    "api_key = '946472f8ad574082a31c9d0fcaf1e89d'\n",
    "newsapi = NewsApiClient(api_key=api_key)"
   ]
  },
  {
   "cell_type": "code",
   "execution_count": 44,
   "id": "dietary-sequence",
   "metadata": {},
   "outputs": [],
   "source": [
    "def crawl_news(query):\n",
    "    all_results = []\n",
    "    for pag in tqdm(range(1, 6)):\n",
    "        pag_articles = newsapi.get_everything(q=query, sort_by='relevancy', page=pag)['articles']\n",
    "        if len(pag_articles) == 0:\n",
    "            break\n",
    "        all_results.extend(pag_articles)\n",
    "    return all_results"
   ]
  },
  {
   "cell_type": "code",
   "execution_count": 45,
   "id": "identified-invite",
   "metadata": {},
   "outputs": [
    {
     "name": "stderr",
     "output_type": "stream",
     "text": [
      "100%|██████████| 5/5 [00:05<00:00,  1.11s/it]\n"
     ]
    }
   ],
   "source": [
    "tesla_news = crawl_news('tesla')"
   ]
  },
  {
   "cell_type": "code",
   "execution_count": 124,
   "id": "disciplinary-multimedia",
   "metadata": {},
   "outputs": [],
   "source": [
    "df = pd.read_csv('BBC news dataset.csv', usecols=range(1, 3))"
   ]
  },
  {
   "cell_type": "code",
   "execution_count": 126,
   "id": "american-formula",
   "metadata": {},
   "outputs": [],
   "source": [
    "df.drop_duplicates('description', inplace=True)"
   ]
  },
  {
   "cell_type": "code",
   "execution_count": 128,
   "id": "polish-bidding",
   "metadata": {},
   "outputs": [],
   "source": [
    "descriptions = df['description'].values"
   ]
  },
  {
   "cell_type": "code",
   "execution_count": 129,
   "id": "exterior-geneva",
   "metadata": {},
   "outputs": [],
   "source": [
    "def pre_process_text(text):\n",
    "\n",
    "    tokens = word_tokenize(text)\n",
    "    # convert to lower case\n",
    "    tokens = [w.lower() for w in tokens]\n",
    "    # remove punctuation from each word\n",
    "\n",
    "    table = str.maketrans('', '', string.punctuation)\n",
    "    stripped = [w.translate(table) for w in tokens]\n",
    "    # remove remaining tokens that are not alphabetic\n",
    "    words = [word for word in stripped if word.isalpha()]\n",
    "    # filter out stop words\n",
    "\n",
    "    stop_words = set(stopwords.words('english'))\n",
    "    words = [w for w in words if not w in stop_words]\n",
    "    return words"
   ]
  },
  {
   "cell_type": "code",
   "execution_count": 130,
   "id": "explicit-laundry",
   "metadata": {},
   "outputs": [
    {
     "name": "stderr",
     "output_type": "stream",
     "text": [
      "100%|██████████| 2128/2128 [00:03<00:00, 558.18it/s]\n"
     ]
    }
   ],
   "source": [
    "processed_descriptions = []\n",
    "for description in tqdm(descriptions):\n",
    "    processed_descriptions.append(' '.join(pre_process_text(description)))"
   ]
  },
  {
   "cell_type": "code",
   "execution_count": 131,
   "id": "preliminary-customs",
   "metadata": {},
   "outputs": [
    {
     "name": "stderr",
     "output_type": "stream",
     "text": [
      "100%|██████████| 2128/2128 [01:17<00:00, 27.58it/s]\n"
     ]
    }
   ],
   "source": [
    "nlp = spacy.load('en_core_web_sm')\n",
    "\n",
    "sent_vecs = {}\n",
    "docs = []\n",
    "\n",
    "for index, description in enumerate(tqdm(processed_descriptions)):\n",
    "    doc = nlp(description)\n",
    "    docs.append(doc)\n",
    "    sent_vecs[index] = doc.vector"
   ]
  },
  {
   "cell_type": "code",
   "execution_count": 132,
   "id": "checked-verse",
   "metadata": {},
   "outputs": [],
   "source": [
    "vectors = list(sent_vecs.values())"
   ]
  },
  {
   "cell_type": "code",
   "execution_count": 133,
   "id": "japanese-ceiling",
   "metadata": {},
   "outputs": [],
   "source": [
    "vectors = np.array(vectors)"
   ]
  },
  {
   "cell_type": "code",
   "execution_count": 145,
   "id": "political-africa",
   "metadata": {},
   "outputs": [
    {
     "name": "stderr",
     "output_type": "stream",
     "text": [
      "100%|██████████| 500/500 [00:30<00:00, 16.34it/s]\n"
     ]
    }
   ],
   "source": [
    "labels_results = {}\n",
    "for i in tqdm(np.arange(0.001, 1, 0.002)):\n",
    "    dbscan = DBSCAN(eps=i, min_samples=5, metric='cosine').fit(vectors)\n",
    "    labels_results[i] = len(pd.Series(dbscan.labels_).value_counts())"
   ]
  },
  {
   "cell_type": "code",
   "execution_count": 146,
   "id": "norman-lucas",
   "metadata": {},
   "outputs": [
    {
     "name": "stdout",
     "output_type": "stream",
     "text": [
      "0.001: 1\n",
      "0.003: 1\n",
      "0.005: 1\n",
      "0.007: 1\n",
      "0.009000000000000001: 1\n",
      "0.011: 4\n",
      "0.013000000000000001: 6\n",
      "0.015: 6\n",
      "0.017: 3\n",
      "0.019000000000000003: 3\n",
      "0.021: 2\n",
      "0.023: 2\n",
      "0.025: 2\n",
      "0.027000000000000003: 2\n",
      "0.029: 2\n",
      "0.031: 2\n",
      "0.033: 2\n",
      "0.035: 2\n",
      "0.037000000000000005: 2\n",
      "0.039: 2\n",
      "0.041: 2\n",
      "0.043000000000000003: 2\n",
      "0.045: 2\n",
      "0.047: 2\n",
      "0.049: 2\n"
     ]
    }
   ],
   "source": [
    "for i in np.arange(0.001, 0.05, 0.002):\n",
    "    print('{}: {}'.format(i, labels_results[i]))"
   ]
  },
  {
   "cell_type": "code",
   "execution_count": 151,
   "id": "virtual-procedure",
   "metadata": {},
   "outputs": [],
   "source": [
    "dbscan = DBSCAN(eps=0.015, min_samples=5, metric='cosine').fit(vectors)"
   ]
  },
  {
   "cell_type": "code",
   "execution_count": 152,
   "id": "macro-durham",
   "metadata": {},
   "outputs": [],
   "source": [
    "results = pd.DataFrame({\n",
    "    'desc': processed_descriptions, \n",
    "    'label': dbscan.labels_\n",
    "})"
   ]
  },
  {
   "cell_type": "code",
   "execution_count": 153,
   "id": "weighted-bargain",
   "metadata": {},
   "outputs": [
    {
     "data": {
      "text/plain": [
       "-1    1672\n",
       " 0     432\n",
       " 2       9\n",
       " 1       7\n",
       " 4       4\n",
       " 3       4\n",
       "Name: label, dtype: int64"
      ]
     },
     "execution_count": 153,
     "metadata": {},
     "output_type": "execute_result"
    }
   ],
   "source": [
    "results['label'].value_counts()"
   ]
  },
  {
   "cell_type": "code",
   "execution_count": 155,
   "id": "swedish-fancy",
   "metadata": {
    "scrolled": false
   },
   "outputs": [
    {
     "name": "stdout",
     "output_type": "stream",
     "text": [
      "force strong battlefront warm reception greeted star wars battlefront reflection ingenious innovation gameplay backtobasics approach immense nostalgia quotient geared towards online gamers based around little series allout gunfights set array locations featured hinted two blockbusting film trilogies previous star wars titles like acclaimed knights old republic jedi knight regularly impressed imaginative forays far corners franchises extensive universe use weird wonderful new characters battlefront hand wholeheartedly revisits recognisable elements hit movies sights sounds protagonists show instantly familiar fans may well feel opportunity relive star wars memorable screen skirmishes makes game always waited mayhem viewed either third firstperson perspective either fight forces freedom join darth vader dark side depending episode type campaign well players personal propensity good evil ample chance wookie shoot ewoks rush battle alongside firedup luke skywalker section task simply wipe enemy troops seize strategic waypoints move next planet really complicated locations include frozen wastes hoth ice planet empire strikes back complete massive mechanical atats march also dusty sinister deserts tatooine geonosis well forest moon endor return jedis muchmaligned ewoks lived feel places well truly captured backdrops characters looking good authentic worth noting though playstation games graphics curiously long way behind xbox version pivotal element behind battlefronts success successfully gives feel plunged midst largescale war number combatants noise abundance laser fire see sense chaos really comes speaking noise battlefront real testament strength star wars galaxys audio motifs multitude distinctive weapon vehicle noises immensely familiar stirring john williams symphonies never let also particularly snazzy remix one themes menu section said game boon star wars would stand long gameplay reliable bogstandard stuff short originality also odd annoyances like games insistence respawning miles away action irritating price pay getting blown second appear weapons vehicles responsive fluid operate might said still great fun pilot scout walker speeder bike however non userfriendly prove whilst firmly designed multiplayer action mind battlefront actually perfectly good fun offline game aboveaverage ai enemy sees although given frenetic environments operate strategic behaviour need sophisticated battlefronts novelty value doubtless wear relatively fast leaving behind slightly empty onetrickpony game absolute blast one immediately satisfying video game offerings yet george lucas stable\n",
      "....\n",
      "bond game fails shake stir gaming fans word goldeneye evokes excited memories james bond revival flick also classic shootemup accompanied left n owners glued consoles many hour adopting hallowed title somewhat backfires new game fails deliver promise name struggles generate originals massive sense fun however sequel relate goldeneye film eponymous renegade spy agent deserts bond worlds extensive ranks criminal masterminds deemed brutal mi new commanderinchief portly auric goldfinger last seen happily running around bent world domination determination justify name even less convincing tina turners similarlytitled theme song game literally gives player golden eye following injury enables degree xray vision rogue agent signals intentions featuring james bond initially proceeding kill within moments squashed plummeting helicopter notion course add novel dark edge game premise simply get juices flowing like needs recent bond games like nightfire everything nothing competent fine job capturing sense flair invention glamour film franchise title lacks aura bond magic shines feels like lucky accident central problem gameplay good enough quite aside bizarre inability jump even bizarre glaring graphical bugs dubious enemy ai levels simply put together much style imagination admittedly competition tough even recent weeks likes halo half life triumphing virtually every department game good enveloping noisy dynamic scenes violent chaos trend late made feel like midst really messy fraught encounter sadly sense action outweighed difficulty navigating battling within chaos meaning frustration often outcome irregular save points mean backtrack time killed minute red dot passes crosshair although collisiondetection suspect difficulties aiming weapons compensated shooting enemies distance tricky always know picked since dead enemies vanish literally fully hit floor woefully uninspiring death animations perhaps indicative lack confidence game makers allow several different weapons almost immediately throw quickly raging firefights time risked measured buildup far satisfying element game seeing old favourites like dr goldfinger hatfiend oddjob crazed russian sex beast xenia onatopp resurrected years faces rendered impressively recognisable fashion real thrill battle legendary villains testament power bond universe cut dash ingame niggles combined story presentation feel sufficiently well thoughtthrough make disappointment diehard fans bond probably find enough make worthwhile purchase try ignore failings game weak completely unplayable fanatics may also take umbrage cavalier blending characters different eras given james bonds healthy pedigree past games every reason hope blip commendable idea worked rectified character inevitably makes return goldeneye rogue agent\n",
      "....\n",
      "gta sequel criminally good grand theft auto series games set highest standards recent years newest addition able live increasingly grand tradition certificate gta san andreas playstation could got away merely revisiting bestselling formula moreofthesame approach instead builds expands almost immeasurably upon last two games stomps carefree drivr true crimeshaped opposition even year see sequels halo halflife hard envisage anything topping barnstorming instant classic basic gameplay remains familiar control character occasion youth named cj sets series selfcontained missions within massive environment cj commandeer vehicle stumbles across pushbike city bus plane come handy seeks establish presence tough urban environment avenge dreadful deeds waged upon family make things worse framed murder moment arrives town blackmailed crooked cops played samuel l jackson chris penn setting rampant criminality fictional us state san andreas comprising three major cities los santos thinlydisguised los angeles san fierro aka san francisco las venturas carbon copy las vegas san andreas sucks sprawling range cast characters incredibly sharp writing ability capture ambience realworld versions cities something behold assisted end monumental graphical advances since vice city streets vast swathes countryside turns gloriously menacing grungy preppy flaunting awesome levels graphical detail games overall look particularly many unusual weather conditions dramatic sunsets stupendous outstanding breadandbutter gameplay mechanics provide solid grounding elaborate plot hang cars handle convincingly ever superb motion blur kicks hit high speeds theres traffic navigate park vehicle across lanes freeway within seconds huge pileup pedestrians also force loquacious bunch cj interact using simple system control pad pass comments appearance credibility aspects player control clothes tattoos haircuts purchased funding habits achieved criminal means indulging minigames like betting horses challenging bar patrons games pool character put lose weight according long spends foot gym pause regularly restaurants keep energy levels swell result overeating last gta hero swim time games fire supposed potential corrupt young san andreas violence specifically freedom gives player commit violence sure inflame procensorship brigade developers rockstar shied away brutality respects ramp past outings hijacking car example cj gratuitously shove drivers head steering wheel rather fleeing vehicle indeed tone darker jokey vice city grim subject matter hardly lends gags quite way cheesy setting last game title incidentally set really neither apart influence radio playlists wit still present restrained previous outings reason incredible range invehicle radio stations available means spend less time happening upon hilarious talk radio options gta games trademark humour anchored quality voice acting motion capture simply offthechart games rather odious gangland lowlifes swagger mouth way rings true indeed testament san andreas magnificence number prominent flaws pluspoints numerous niggles dont detract onscreen map instance needlessly fiddly unwelcome change past editions also jarring slowdown actionpacked moments game suffers ageold problem relied upon blight games genre setting back vast distance fail right end long mission gameplay experience entirety overwhelmingly positive simply bothered minor failings san andreas among unmissable games\n",
      "....\n",
      "big war games battle arrival new titles popular medal honor call duty franchises leaves fans wartime battle titles spoilt choice acclaimed pc title call duty updated console formats building many originals elements part longrunning medal honor series added pacific assault pc catalogue adapting console game rising sun call duty finest hour casts succession allied soldiers fighting world war battlefronts including russia north africa traditional firstpersonviewed game lets control one character midst unit cohorts constantly bark orders nearidentical note medal honor pacific assault make feel part tightknit team plum middle allout action arenas wars pacific battles including guadalcanal pearl harbour play one character throughout raw rather talkative us soldier games rely carefully stagemanaged structure keeps things ticking along works brilliant device make feel part story tedious winning moment early scene pacific assault come attack famous us base hawaii first ushered gunboat attacking incoming waves japanese planes made descend sinking battleship rescue crewman seizing antiaircraft guns one finest setpieces ever seen video game notion shuffling player along studiously predetermined path forcibly witnessing series preset moments action perilous business make whole affair feel stilted rather organic genius something like half life skilfully disguises linear plotting various means misdirection pair games really accomplish concerned imparting fullon atmospheric experience call duty comes suitably bombastic score overblown presentation finest hour similar determination framing everything moody wartime music archive footage lots reflective voiceovers letting play number different roles interesting ploy adds new dimensions call duty endeavour even sacrifices narrative flow somewhat games drawback could said format tastes differ wartime shooters often seem work better pc mouse control big reason along sharper graphics topend computer muster apparent notion pc games allowed get away bit subtlety call duty pc detailed plotwise graphically new adaptation feels little rough ready targeting ps controller proved tricky helped unconvincing collisiondetection shoot enemy repeatedly zero question aim yet bullets refuse hit checkpoints far get shot happens regularly set harshly far back find covering vast tracts scorched earth game wants challenge many players like dynamic battlefield simulator experience even refined pc parent sense part action thoroughly impressive games feature military colleagues disturbingly bad shots prone odd behaviour pacific assault particular commands comments irritatingly meaningless teamwork element titles like superficial designed add atmosphere camaraderie rather affect gameplay mechanics two games pacific assault gets things right including little points like autosaving intelligently tidier presentation engages well also looks wonderful making lush tropical settings reminiscent glorious far cry although ramp settings highspec machine get finest hour means bad pc original dazzling version sometimes feels underwhelming looking wartime game plenty atmosphere hearty abundance enemies shoot contented also niggling puzzlement break little ground rather competent\n",
      "....\n"
     ]
    }
   ],
   "source": [
    "for index in results[results['label'] == 3].index:\n",
    "    print(results.loc[index]['desc'])\n",
    "    print('....')"
   ]
  }
 ],
 "metadata": {
  "kernelspec": {
   "display_name": "Python 3",
   "language": "python",
   "name": "python3"
  },
  "language_info": {
   "codemirror_mode": {
    "name": "ipython",
    "version": 3
   },
   "file_extension": ".py",
   "mimetype": "text/x-python",
   "name": "python",
   "nbconvert_exporter": "python",
   "pygments_lexer": "ipython3",
   "version": "3.8.0"
  }
 },
 "nbformat": 4,
 "nbformat_minor": 5
}
